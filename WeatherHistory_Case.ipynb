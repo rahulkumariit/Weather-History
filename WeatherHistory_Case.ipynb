{
 "cells": [
  {
   "cell_type": "code",
   "execution_count": 1,
   "metadata": {
    "id": "USHX6MQC2ZlC"
   },
   "outputs": [],
   "source": [
    "# Importing the libraries\n",
    "import numpy as np\n",
    "import matplotlib.pyplot as plt\n",
    "import pandas as pd\n",
    "import os\n",
    "import statsmodels.api as sm\n",
    "import seaborn as sns\n",
    "import matplotlib.pyplot as plt\n",
    "from sklearn.model_selection import train_test_split\n",
    "from sklearn.linear_model import LinearRegression\n",
    "from statsmodels.stats.outliers_influence import variance_inflation_factor\n",
    "from sklearn.metrics import mean_squared_error\n",
    "from sklearn.metrics import r2_score"
   ]
  },
  {
   "cell_type": "code",
   "execution_count": 2,
   "metadata": {
    "colab": {
     "base_uri": "https://localhost:8080/",
     "height": 506
    },
    "id": "iwAYBHx83ORq",
    "outputId": "66bf787b-2b9e-4c6b-8389-1a14ae792940"
   },
   "outputs": [
    {
     "data": {
      "text/html": [
       "<div>\n",
       "<style scoped>\n",
       "    .dataframe tbody tr th:only-of-type {\n",
       "        vertical-align: middle;\n",
       "    }\n",
       "\n",
       "    .dataframe tbody tr th {\n",
       "        vertical-align: top;\n",
       "    }\n",
       "\n",
       "    .dataframe thead th {\n",
       "        text-align: right;\n",
       "    }\n",
       "</style>\n",
       "<table border=\"1\" class=\"dataframe\">\n",
       "  <thead>\n",
       "    <tr style=\"text-align: right;\">\n",
       "      <th></th>\n",
       "      <th>Formatted Date</th>\n",
       "      <th>Summary</th>\n",
       "      <th>Precip Type</th>\n",
       "      <th>Temperature (C)</th>\n",
       "      <th>Apparent Temperature (C)</th>\n",
       "      <th>Humidity</th>\n",
       "      <th>Wind Speed (km/h)</th>\n",
       "      <th>Wind Bearing (degrees)</th>\n",
       "      <th>Visibility (km)</th>\n",
       "      <th>Loud Cover</th>\n",
       "      <th>Pressure (millibars)</th>\n",
       "      <th>Daily Summary</th>\n",
       "    </tr>\n",
       "  </thead>\n",
       "  <tbody>\n",
       "    <tr>\n",
       "      <th>0</th>\n",
       "      <td>2006-04-01 00:00:00.000 +0200</td>\n",
       "      <td>Partly Cloudy</td>\n",
       "      <td>rain</td>\n",
       "      <td>9.472222</td>\n",
       "      <td>7.388889</td>\n",
       "      <td>0.89</td>\n",
       "      <td>14.1197</td>\n",
       "      <td>251.0</td>\n",
       "      <td>15.8263</td>\n",
       "      <td>0.0</td>\n",
       "      <td>1015.13</td>\n",
       "      <td>Partly cloudy throughout the day.</td>\n",
       "    </tr>\n",
       "    <tr>\n",
       "      <th>1</th>\n",
       "      <td>2006-04-01 01:00:00.000 +0200</td>\n",
       "      <td>Partly Cloudy</td>\n",
       "      <td>rain</td>\n",
       "      <td>9.355556</td>\n",
       "      <td>7.227778</td>\n",
       "      <td>0.86</td>\n",
       "      <td>14.2646</td>\n",
       "      <td>259.0</td>\n",
       "      <td>15.8263</td>\n",
       "      <td>0.0</td>\n",
       "      <td>1015.63</td>\n",
       "      <td>Partly cloudy throughout the day.</td>\n",
       "    </tr>\n",
       "    <tr>\n",
       "      <th>2</th>\n",
       "      <td>2006-04-01 02:00:00.000 +0200</td>\n",
       "      <td>Mostly Cloudy</td>\n",
       "      <td>rain</td>\n",
       "      <td>9.377778</td>\n",
       "      <td>9.377778</td>\n",
       "      <td>0.89</td>\n",
       "      <td>3.9284</td>\n",
       "      <td>204.0</td>\n",
       "      <td>14.9569</td>\n",
       "      <td>0.0</td>\n",
       "      <td>1015.94</td>\n",
       "      <td>Partly cloudy throughout the day.</td>\n",
       "    </tr>\n",
       "    <tr>\n",
       "      <th>3</th>\n",
       "      <td>2006-04-01 03:00:00.000 +0200</td>\n",
       "      <td>Partly Cloudy</td>\n",
       "      <td>rain</td>\n",
       "      <td>8.288889</td>\n",
       "      <td>5.944444</td>\n",
       "      <td>0.83</td>\n",
       "      <td>14.1036</td>\n",
       "      <td>269.0</td>\n",
       "      <td>15.8263</td>\n",
       "      <td>0.0</td>\n",
       "      <td>1016.41</td>\n",
       "      <td>Partly cloudy throughout the day.</td>\n",
       "    </tr>\n",
       "    <tr>\n",
       "      <th>4</th>\n",
       "      <td>2006-04-01 04:00:00.000 +0200</td>\n",
       "      <td>Mostly Cloudy</td>\n",
       "      <td>rain</td>\n",
       "      <td>8.755556</td>\n",
       "      <td>6.977778</td>\n",
       "      <td>0.83</td>\n",
       "      <td>11.0446</td>\n",
       "      <td>259.0</td>\n",
       "      <td>15.8263</td>\n",
       "      <td>0.0</td>\n",
       "      <td>1016.51</td>\n",
       "      <td>Partly cloudy throughout the day.</td>\n",
       "    </tr>\n",
       "  </tbody>\n",
       "</table>\n",
       "</div>"
      ],
      "text/plain": [
       "                  Formatted Date        Summary Precip Type  Temperature (C)  \\\n",
       "0  2006-04-01 00:00:00.000 +0200  Partly Cloudy        rain         9.472222   \n",
       "1  2006-04-01 01:00:00.000 +0200  Partly Cloudy        rain         9.355556   \n",
       "2  2006-04-01 02:00:00.000 +0200  Mostly Cloudy        rain         9.377778   \n",
       "3  2006-04-01 03:00:00.000 +0200  Partly Cloudy        rain         8.288889   \n",
       "4  2006-04-01 04:00:00.000 +0200  Mostly Cloudy        rain         8.755556   \n",
       "\n",
       "   Apparent Temperature (C)  Humidity  Wind Speed (km/h)  \\\n",
       "0                  7.388889      0.89            14.1197   \n",
       "1                  7.227778      0.86            14.2646   \n",
       "2                  9.377778      0.89             3.9284   \n",
       "3                  5.944444      0.83            14.1036   \n",
       "4                  6.977778      0.83            11.0446   \n",
       "\n",
       "   Wind Bearing (degrees)  Visibility (km)  Loud Cover  Pressure (millibars)  \\\n",
       "0                   251.0          15.8263         0.0               1015.13   \n",
       "1                   259.0          15.8263         0.0               1015.63   \n",
       "2                   204.0          14.9569         0.0               1015.94   \n",
       "3                   269.0          15.8263         0.0               1016.41   \n",
       "4                   259.0          15.8263         0.0               1016.51   \n",
       "\n",
       "                       Daily Summary  \n",
       "0  Partly cloudy throughout the day.  \n",
       "1  Partly cloudy throughout the day.  \n",
       "2  Partly cloudy throughout the day.  \n",
       "3  Partly cloudy throughout the day.  \n",
       "4  Partly cloudy throughout the day.  "
      ]
     },
     "execution_count": 2,
     "metadata": {},
     "output_type": "execute_result"
    }
   ],
   "source": [
    "# Importing the dataset\n",
    "weather_data = pd.read_csv('C:\\\\Users\\\\rahul\\\\OneDrive\\\\Desktop\\\\DS\\\\Ivy\\\\Python\\\\Data and code\\\\Data\\\\weatherHistory.csv')\n",
    "weather_data.head()"
   ]
  },
  {
   "cell_type": "code",
   "execution_count": 3,
   "metadata": {
    "colab": {
     "base_uri": "https://localhost:8080/"
    },
    "id": "VYrvDh347tct",
    "outputId": "684cfc28-762c-4d9a-fd3e-903047c7efe9"
   },
   "outputs": [
    {
     "name": "stdout",
     "output_type": "stream",
     "text": [
      "<class 'pandas.core.frame.DataFrame'>\n",
      "RangeIndex: 96453 entries, 0 to 96452\n",
      "Data columns (total 12 columns):\n",
      " #   Column                    Non-Null Count  Dtype  \n",
      "---  ------                    --------------  -----  \n",
      " 0   Formatted Date            96453 non-null  object \n",
      " 1   Summary                   96453 non-null  object \n",
      " 2   Precip Type               95936 non-null  object \n",
      " 3   Temperature (C)           96453 non-null  float64\n",
      " 4   Apparent Temperature (C)  96453 non-null  float64\n",
      " 5   Humidity                  96453 non-null  float64\n",
      " 6   Wind Speed (km/h)         96453 non-null  float64\n",
      " 7   Wind Bearing (degrees)    96453 non-null  float64\n",
      " 8   Visibility (km)           96453 non-null  float64\n",
      " 9   Loud Cover                96453 non-null  float64\n",
      " 10  Pressure (millibars)      96453 non-null  float64\n",
      " 11  Daily Summary             96453 non-null  object \n",
      "dtypes: float64(8), object(4)\n",
      "memory usage: 8.8+ MB\n"
     ]
    }
   ],
   "source": [
    "# General info about the dataset\n",
    "weather_data.info()"
   ]
  },
  {
   "cell_type": "code",
   "execution_count": 4,
   "metadata": {
    "colab": {
     "base_uri": "https://localhost:8080/"
    },
    "id": "t87mpaMv3y12",
    "outputId": "f816a1ae-de2c-446e-bddc-fcc821f9e168"
   },
   "outputs": [
    {
     "data": {
      "text/plain": [
       "Formatted Date                0\n",
       "Summary                       0\n",
       "Precip Type                 517\n",
       "Temperature (C)               0\n",
       "Apparent Temperature (C)      0\n",
       "Humidity                      0\n",
       "Wind Speed (km/h)             0\n",
       "Wind Bearing (degrees)        0\n",
       "Visibility (km)               0\n",
       "Loud Cover                    0\n",
       "Pressure (millibars)          0\n",
       "Daily Summary                 0\n",
       "dtype: int64"
      ]
     },
     "execution_count": 4,
     "metadata": {},
     "output_type": "execute_result"
    }
   ],
   "source": [
    "# Total missing values in the dataset\n",
    "weather_data.isnull().sum() # 517 missing values in Precip Type"
   ]
  },
  {
   "cell_type": "markdown",
   "metadata": {
    "id": "tJiQ2uoW79b1"
   },
   "source": [
    "By seeing at the info and missing values in the dataset - \n",
    "\n",
    "1. Formatted Date is of no use as it has no relation with the temperature and mostly affects a time series data\n",
    "\n",
    "2. Precip Type has 517 missing values, so we need to replace these missing values with the mode of data as total percentage of missing value is very less (< 0.55%)\n",
    "\n",
    "3. Summary and Daily Summary has too many categories (impossible to create dummy variables) and hence are of no use\n",
    "\n",
    "4. Loud Cover has only one type of value (zeros only), so it will not contribute anything to the model\n",
    "\n",
    "Hence we will eliminate these variables and treat the missing values in Precip Type\n"
   ]
  },
  {
   "cell_type": "code",
   "execution_count": 5,
   "metadata": {
    "id": "NWYybVOu5zM9"
   },
   "outputs": [],
   "source": [
    "# Eliminating garbage variables\n",
    "weather_data = weather_data.drop(columns = [\"Formatted Date\",\"Summary\",\"Daily Summary\",\"Loud Cover\"])\n",
    "\n",
    "# Treating missing values in Precip Type\n",
    "weather_data[\"Precip Type\"].fillna(weather_data[\"Precip Type\"].value_counts(). idxmax(), inplace = True)"
   ]
  },
  {
   "cell_type": "code",
   "execution_count": 6,
   "metadata": {
    "colab": {
     "base_uri": "https://localhost:8080/",
     "height": 311
    },
    "id": "fqPLwQJH3fpd",
    "outputId": "351440b2-eb9d-4078-bbb2-0650bbfc7e66"
   },
   "outputs": [
    {
     "data": {
      "text/html": [
       "<div>\n",
       "<style scoped>\n",
       "    .dataframe tbody tr th:only-of-type {\n",
       "        vertical-align: middle;\n",
       "    }\n",
       "\n",
       "    .dataframe tbody tr th {\n",
       "        vertical-align: top;\n",
       "    }\n",
       "\n",
       "    .dataframe thead th {\n",
       "        text-align: right;\n",
       "    }\n",
       "</style>\n",
       "<table border=\"1\" class=\"dataframe\">\n",
       "  <thead>\n",
       "    <tr style=\"text-align: right;\">\n",
       "      <th></th>\n",
       "      <th>Temperature (C)</th>\n",
       "      <th>Apparent Temperature (C)</th>\n",
       "      <th>Humidity</th>\n",
       "      <th>Wind Speed (km/h)</th>\n",
       "      <th>Wind Bearing (degrees)</th>\n",
       "      <th>Visibility (km)</th>\n",
       "      <th>Pressure (millibars)</th>\n",
       "    </tr>\n",
       "  </thead>\n",
       "  <tbody>\n",
       "    <tr>\n",
       "      <th>count</th>\n",
       "      <td>96453.000000</td>\n",
       "      <td>96453.000000</td>\n",
       "      <td>96453.000000</td>\n",
       "      <td>96453.000000</td>\n",
       "      <td>96453.000000</td>\n",
       "      <td>96453.000000</td>\n",
       "      <td>96453.000000</td>\n",
       "    </tr>\n",
       "    <tr>\n",
       "      <th>mean</th>\n",
       "      <td>11.932678</td>\n",
       "      <td>10.855029</td>\n",
       "      <td>0.734899</td>\n",
       "      <td>10.810640</td>\n",
       "      <td>187.509232</td>\n",
       "      <td>10.347325</td>\n",
       "      <td>1003.235956</td>\n",
       "    </tr>\n",
       "    <tr>\n",
       "      <th>std</th>\n",
       "      <td>9.551546</td>\n",
       "      <td>10.696847</td>\n",
       "      <td>0.195473</td>\n",
       "      <td>6.913571</td>\n",
       "      <td>107.383428</td>\n",
       "      <td>4.192123</td>\n",
       "      <td>116.969906</td>\n",
       "    </tr>\n",
       "    <tr>\n",
       "      <th>min</th>\n",
       "      <td>-21.822222</td>\n",
       "      <td>-27.716667</td>\n",
       "      <td>0.000000</td>\n",
       "      <td>0.000000</td>\n",
       "      <td>0.000000</td>\n",
       "      <td>0.000000</td>\n",
       "      <td>0.000000</td>\n",
       "    </tr>\n",
       "    <tr>\n",
       "      <th>25%</th>\n",
       "      <td>4.688889</td>\n",
       "      <td>2.311111</td>\n",
       "      <td>0.600000</td>\n",
       "      <td>5.828200</td>\n",
       "      <td>116.000000</td>\n",
       "      <td>8.339800</td>\n",
       "      <td>1011.900000</td>\n",
       "    </tr>\n",
       "    <tr>\n",
       "      <th>50%</th>\n",
       "      <td>12.000000</td>\n",
       "      <td>12.000000</td>\n",
       "      <td>0.780000</td>\n",
       "      <td>9.965900</td>\n",
       "      <td>180.000000</td>\n",
       "      <td>10.046400</td>\n",
       "      <td>1016.450000</td>\n",
       "    </tr>\n",
       "    <tr>\n",
       "      <th>75%</th>\n",
       "      <td>18.838889</td>\n",
       "      <td>18.838889</td>\n",
       "      <td>0.890000</td>\n",
       "      <td>14.135800</td>\n",
       "      <td>290.000000</td>\n",
       "      <td>14.812000</td>\n",
       "      <td>1021.090000</td>\n",
       "    </tr>\n",
       "    <tr>\n",
       "      <th>max</th>\n",
       "      <td>39.905556</td>\n",
       "      <td>39.344444</td>\n",
       "      <td>1.000000</td>\n",
       "      <td>63.852600</td>\n",
       "      <td>359.000000</td>\n",
       "      <td>16.100000</td>\n",
       "      <td>1046.380000</td>\n",
       "    </tr>\n",
       "  </tbody>\n",
       "</table>\n",
       "</div>"
      ],
      "text/plain": [
       "       Temperature (C)  Apparent Temperature (C)      Humidity  \\\n",
       "count     96453.000000              96453.000000  96453.000000   \n",
       "mean         11.932678                 10.855029      0.734899   \n",
       "std           9.551546                 10.696847      0.195473   \n",
       "min         -21.822222                -27.716667      0.000000   \n",
       "25%           4.688889                  2.311111      0.600000   \n",
       "50%          12.000000                 12.000000      0.780000   \n",
       "75%          18.838889                 18.838889      0.890000   \n",
       "max          39.905556                 39.344444      1.000000   \n",
       "\n",
       "       Wind Speed (km/h)  Wind Bearing (degrees)  Visibility (km)  \\\n",
       "count       96453.000000            96453.000000     96453.000000   \n",
       "mean           10.810640              187.509232        10.347325   \n",
       "std             6.913571              107.383428         4.192123   \n",
       "min             0.000000                0.000000         0.000000   \n",
       "25%             5.828200              116.000000         8.339800   \n",
       "50%             9.965900              180.000000        10.046400   \n",
       "75%            14.135800              290.000000        14.812000   \n",
       "max            63.852600              359.000000        16.100000   \n",
       "\n",
       "       Pressure (millibars)  \n",
       "count          96453.000000  \n",
       "mean            1003.235956  \n",
       "std              116.969906  \n",
       "min                0.000000  \n",
       "25%             1011.900000  \n",
       "50%             1016.450000  \n",
       "75%             1021.090000  \n",
       "max             1046.380000  "
      ]
     },
     "execution_count": 6,
     "metadata": {},
     "output_type": "execute_result"
    }
   ],
   "source": [
    "# Statistical description of all continuous variables \n",
    "weather_data.describe()"
   ]
  },
  {
   "cell_type": "code",
   "execution_count": 7,
   "metadata": {
    "colab": {
     "base_uri": "https://localhost:8080/",
     "height": 172
    },
    "id": "3l3-C9e8IKzE",
    "outputId": "f0e0ac88-9720-4024-8643-e9a252ad3b2b"
   },
   "outputs": [
    {
     "data": {
      "text/html": [
       "<div>\n",
       "<style scoped>\n",
       "    .dataframe tbody tr th:only-of-type {\n",
       "        vertical-align: middle;\n",
       "    }\n",
       "\n",
       "    .dataframe tbody tr th {\n",
       "        vertical-align: top;\n",
       "    }\n",
       "\n",
       "    .dataframe thead th {\n",
       "        text-align: right;\n",
       "    }\n",
       "</style>\n",
       "<table border=\"1\" class=\"dataframe\">\n",
       "  <thead>\n",
       "    <tr style=\"text-align: right;\">\n",
       "      <th></th>\n",
       "      <th>Precip Type</th>\n",
       "    </tr>\n",
       "  </thead>\n",
       "  <tbody>\n",
       "    <tr>\n",
       "      <th>count</th>\n",
       "      <td>96453</td>\n",
       "    </tr>\n",
       "    <tr>\n",
       "      <th>unique</th>\n",
       "      <td>2</td>\n",
       "    </tr>\n",
       "    <tr>\n",
       "      <th>top</th>\n",
       "      <td>rain</td>\n",
       "    </tr>\n",
       "    <tr>\n",
       "      <th>freq</th>\n",
       "      <td>85741</td>\n",
       "    </tr>\n",
       "  </tbody>\n",
       "</table>\n",
       "</div>"
      ],
      "text/plain": [
       "       Precip Type\n",
       "count        96453\n",
       "unique           2\n",
       "top           rain\n",
       "freq         85741"
      ]
     },
     "execution_count": 7,
     "metadata": {},
     "output_type": "execute_result"
    }
   ],
   "source": [
    "# Statistical description of all categorical variables \n",
    "weather_data.describe(include='O')"
   ]
  },
  {
   "cell_type": "markdown",
   "metadata": {
    "id": "O3TGABBrKJ6l"
   },
   "source": [
    "As ML models cannot understand character variables so we will do feature engineering by converting rain as 1 and snow as 0 in Precip type variable"
   ]
  },
  {
   "cell_type": "code",
   "execution_count": 8,
   "metadata": {
    "colab": {
     "base_uri": "https://localhost:8080/"
    },
    "id": "Ovs3A_9GJ8xu",
    "outputId": "a1589b24-69c2-4aa8-a014-60ec2717b49c"
   },
   "outputs": [
    {
     "data": {
      "text/plain": [
       "array(['rain', 'snow'], dtype=object)"
      ]
     },
     "execution_count": 8,
     "metadata": {},
     "output_type": "execute_result"
    }
   ],
   "source": [
    "# Total categories in Precip Type variable\n",
    "weather_data['Precip Type'].unique()"
   ]
  },
  {
   "cell_type": "code",
   "execution_count": 9,
   "metadata": {
    "id": "HQjZfakGJ7QX"
   },
   "outputs": [],
   "source": [
    "# Feature engineering\n",
    "weather_data[\"Precip Type\"].replace({'snow':0, 'rain':1}, inplace = True)"
   ]
  },
  {
   "cell_type": "code",
   "execution_count": 10,
   "metadata": {
    "colab": {
     "base_uri": "https://localhost:8080/",
     "height": 389
    },
    "id": "I2FaZrbp39Xl",
    "outputId": "0c3bdd3d-320c-4198-dbaa-c0c1c834fb88"
   },
   "outputs": [
    {
     "data": {
      "image/png": "[encoded data removed]",
      "text/plain": [
       "<Figure size 432x288 with 2 Axes>"
      ]
     },
     "metadata": {
      "needs_background": "light"
     },
     "output_type": "display_data"
    }
   ],
   "source": [
    "# Correlation matrix for all the continuous variables in the dataset\n",
    "corrMatrix = weather_data.corr()\n",
    "sns.heatmap(corrMatrix, annot=True)\n",
    "plt.show()"
   ]
  },
  {
   "cell_type": "markdown",
   "metadata": {
    "id": "bRQbQKhu-X2T"
   },
   "source": [
    "By seeing at the correlation matrix it can be said that variables like - \n",
    "\n",
    "1. Wind Speed (km/h)\n",
    "2. Wind Bearing (degrees)\n",
    "3. Pressure (millibars)\n",
    "4. Visibility (km)\n",
    "\n",
    "are very weakly correlated with the dependent variable (Temperature (C)), so we will eliminate them"
   ]
  },
  {
   "cell_type": "code",
   "execution_count": 11,
   "metadata": {
    "id": "7qYCkXan-xR0"
   },
   "outputs": [],
   "source": [
    "# Eliminating weakly correlated variables variables\n",
    "weather_data = weather_data.drop(columns = [\"Wind Speed (km/h)\",\"Wind Bearing (degrees)\",\"Pressure (millibars)\", \"Visibility (km)\"])"
   ]
  },
  {
   "cell_type": "code",
   "execution_count": 12,
   "metadata": {
    "colab": {
     "base_uri": "https://localhost:8080/",
     "height": 891
    },
    "id": "CEcWpaOI_S6a",
    "outputId": "2c1c13c3-541d-4f79-cae0-68d940957dd7"
   },
   "outputs": [
    {
     "data": {
      "image/png": "[encoded data removed]",
      "text/plain": [
       "<Figure size 1080x1080 with 2 Axes>"
      ]
     },
     "metadata": {
      "needs_background": "light"
     },
     "output_type": "display_data"
    }
   ],
   "source": [
    "# Code for creating scatter plot for continuous variables \n",
    "plt.figure(figsize = (15,15))\n",
    "cols = weather_data.columns\n",
    "for r in range(1,len(cols)-1):\n",
    "  plt.subplot(1,2,r)\n",
    "  sns.regplot( x = cols[r+1], y = 'Temperature (C)', data=weather_data, fit_reg=True)\n",
    "  plt.title(\"Temperature (C) VS \" + cols[r+1], fontsize = 10)"
   ]
  },
  {
   "cell_type": "markdown",
   "metadata": {
    "id": "PRckuK5iA6NG"
   },
   "source": [
    "Scatter plot also suggests that there is a correlation between \n",
    "Temperature (C) and- \n",
    "\n",
    "1. Apparent Temperature (C)- strong co-relation\n",
    "2. Humidity - strong co-relation"
   ]
  },
  {
   "cell_type": "code",
   "execution_count": 13,
   "metadata": {
    "colab": {
     "base_uri": "https://localhost:8080/",
     "height": 877
    },
    "id": "-eeaNjwn_lSX",
    "outputId": "761b0d49-252b-4e0e-a618-27727964e436"
   },
   "outputs": [
    {
     "data": {
      "image/png": "[encoded data removed]",
      "text/plain": [
       "<Figure size 1080x1080 with 4 Axes>"
      ]
     },
     "metadata": {
      "needs_background": "light"
     },
     "output_type": "display_data"
    }
   ],
   "source": [
    "# Code to create distribution curve for all variables\n",
    "plt.figure(figsize = (15,15))\n",
    "cols = weather_data.columns\n",
    "for r in range(1,len(cols)+1):\n",
    "  plt.subplot(2,2,r)\n",
    "  sns.histplot(weather_data[cols[r-1]])"
   ]
  },
  {
   "cell_type": "markdown",
   "metadata": {
    "id": "mpySCuxpBxfv"
   },
   "source": [
    "Here we can see that Temperature (C) and Apparent Temperature (C) both are showing perfectly normal distribution (means no outliers) however, it is not true with Humidity. So, we will detect and remove and remove outliers from Humidity"
   ]
  },
  {
   "cell_type": "code",
   "execution_count": 14,
   "metadata": {
    "id": "vZ1hVeM7DA6O"
   },
   "outputs": [],
   "source": [
    "# Function to return outliers\n",
    "def detect_outlier(data_1):\n",
    "    outliers=[]\n",
    "    threshold=3\n",
    "    mean_1 = np.mean(data_1)\n",
    "    std_1 =np.std(data_1)\n",
    "    \n",
    "    \n",
    "    for y in data_1:\n",
    "        z_score= (y - mean_1)/std_1 \n",
    "        if np.abs(z_score) > threshold:\n",
    "            outliers.append(y)\n",
    "    return outliers"
   ]
  },
  {
   "cell_type": "code",
   "execution_count": 15,
   "metadata": {
    "colab": {
     "base_uri": "https://localhost:8080/"
    },
    "id": "Zf-LBvwkDJti",
    "outputId": "bdae6421-5d3b-4534-cd7e-6d5cc7ca628a"
   },
   "outputs": [
    {
     "name": "stdout",
     "output_type": "stream",
     "text": [
      "[0.14, 0.14, 0.14, 0.13, 0.0, 0.0, 0.0, 0.0, 0.0, 0.0, 0.0, 0.0, 0.0, 0.0, 0.0, 0.0, 0.0, 0.0, 0.0, 0.0, 0.0, 0.0, 0.0, 0.0, 0.0, 0.0, 0.12, 0.14]\n"
     ]
    }
   ],
   "source": [
    "# Outliers in Humidity column\n",
    "outlier_data = detect_outlier(weather_data[\"Humidity\"])\n",
    "print (outlier_data)"
   ]
  },
  {
   "cell_type": "code",
   "execution_count": 16,
   "metadata": {
    "id": "bKf4KZC6DTJT"
   },
   "outputs": [],
   "source": [
    "# Removing the Outliers\n",
    "weather_data = weather_data[weather_data[\"Humidity\"]>0.15]"
   ]
  },
  {
   "cell_type": "code",
   "execution_count": 17,
   "metadata": {
    "id": "tOHT6amwDbY4"
   },
   "outputs": [],
   "source": [
    "# Extracting the variable to be predicted\n",
    "train_y = weather_data['Temperature (C)']"
   ]
  },
  {
   "cell_type": "code",
   "execution_count": 18,
   "metadata": {
    "id": "hon9_kq2DdE_"
   },
   "outputs": [],
   "source": [
    "# Extracting input features \n",
    "train_x = weather_data.drop(columns = [\"Temperature (C)\"])"
   ]
  },
  {
   "cell_type": "code",
   "execution_count": 19,
   "metadata": {
    "colab": {
     "base_uri": "https://localhost:8080/"
    },
    "id": "Wc4lhF-HDek4",
    "outputId": "8f7ee473-5eb9-4906-9e24-429a2cd4de89"
   },
   "outputs": [
    {
     "data": {
      "text/plain": [
       "((81952, 3), (14463, 3), (81952,), (14463,))"
      ]
     },
     "execution_count": 19,
     "metadata": {},
     "output_type": "execute_result"
    }
   ],
   "source": [
    "# Splitting the data into training and test data\n",
    "train_x, test_x, train_y, test_y = train_test_split(train_x, train_y, test_size=0.15, random_state=42, )\n",
    "train_x.shape,test_x.shape,train_y.shape,test_y.shape"
   ]
  },
  {
   "cell_type": "markdown",
   "metadata": {
    "id": "a1m3qiG0EDpt"
   },
   "source": [
    "81952 data points in training set, 14463 data points in test set, 3 independent variables and a dependent variable"
   ]
  },
  {
   "cell_type": "code",
   "execution_count": 20,
   "metadata": {
    "colab": {
     "base_uri": "https://localhost:8080/"
    },
    "id": "GM8F1U3QEx49",
    "outputId": "6e707a7a-7e16-4baa-c7f2-01477de95d65"
   },
   "outputs": [
    {
     "name": "stdout",
     "output_type": "stream",
     "text": [
      "MSE after training the data by sklearn linear model: 1.1582172027912538\n",
      "r2 score after training the data by sklearn linear model :  0.9872391133262627\n",
      "Coefficients by sklearn linear model :  [ 0.36577661  0.84993109 -2.73825109]\n",
      "Intercept by sklearn linear model :  4.392430208305906\n"
     ]
    }
   ],
   "source": [
    "# Fitting Multiple Linear Regression to the Training set\n",
    "model_sklearn = LinearRegression()\n",
    "model_sklearn.fit(train_x, train_y)\n",
    "predict_train_model_sklearn = model_sklearn.predict(train_x)\n",
    "train_MSE_model_sklearn = mean_squared_error(train_y, predict_train_model_sklearn)\n",
    "train_r2score_model_sklearn = r2_score(train_y, predict_train_model_sklearn)\n",
    "print(\"MSE after training the data by sklearn linear model:\",train_MSE_model_sklearn)\n",
    "print(\"r2 score after training the data by sklearn linear model : \",train_r2score_model_sklearn)\n",
    "print(\"Coefficients by sklearn linear model : \",model_sklearn.coef_)\n",
    "print(\"Intercept by sklearn linear model : \",model_sklearn.intercept_)"
   ]
  },
  {
   "cell_type": "code",
   "execution_count": 21,
   "metadata": {
    "colab": {
     "base_uri": "https://localhost:8080/"
    },
    "id": "FKC9aG2ONHmF",
    "outputId": "5f630cbe-a3b2-4d7d-e800-fe3ca3ab68fe"
   },
   "outputs": [
    {
     "name": "stdout",
     "output_type": "stream",
     "text": [
      "MSE after test on sklearn model : 1.1744594447520527\n",
      "r2 score after on sklearn model :  0.987319863212834\n"
     ]
    }
   ],
   "source": [
    "# prediction on test data \n",
    "predict_test_model_sklearn = model_sklearn.predict(test_x)\n",
    "test_MSE_model_sklearn = mean_squared_error(test_y, predict_test_model_sklearn)\n",
    "test_r2score_model_sklearn = r2_score(test_y, predict_test_model_sklearn)\n",
    "print(\"MSE after test on sklearn model :\",test_MSE_model_sklearn )\n",
    "print(\"r2 score after on sklearn model : \",test_r2score_model_sklearn)"
   ]
  },
  {
   "cell_type": "markdown",
   "metadata": {
    "id": "AvkCd5OyNmnD"
   },
   "source": [
    "1. r2 score value in both training set and test set is close to 99%, means model has trained perfectly and there is no overfitting\n",
    "\n",
    "2. According to the analysis and model trained (sklearn model),factors which have an impact on the Temperature in Hungary are-\n",
    "\n",
    "   1. Apparent Temperature (C)- +ve coefficient\n",
    "   2. Humidity - -ve coefficient\n",
    "   3. Precip Type - +ve coefficent\n",
    "\n",
    "+ve coefficent means directly proportional and -ve correlation means inversely proportional   "
   ]
  },
  {
   "cell_type": "code",
   "execution_count": 22,
   "metadata": {
    "colab": {
     "base_uri": "https://localhost:8080/",
     "height": 468
    },
    "id": "GH__uMzzGJyg",
    "outputId": "7082b44e-7717-4e06-96e3-196a45e98735"
   },
   "outputs": [
    {
     "data": {
      "text/html": [
       "<table class=\"simpletable\">\n",
       "<caption>OLS Regression Results</caption>\n",
       "<tr>\n",
       "  <th>Dep. Variable:</th>     <td>Temperature (C)</td> <th>  R-squared:         </th>  <td>   0.987</td>  \n",
       "</tr>\n",
       "<tr>\n",
       "  <th>Model:</th>                   <td>OLS</td>       <th>  Adj. R-squared:    </th>  <td>   0.987</td>  \n",
       "</tr>\n",
       "<tr>\n",
       "  <th>Method:</th>             <td>Least Squares</td>  <th>  F-statistic:       </th>  <td>2.113e+06</td> \n",
       "</tr>\n",
       "<tr>\n",
       "  <th>Date:</th>             <td>Sun, 19 Sep 2021</td> <th>  Prob (F-statistic):</th>   <td>  0.00</td>   \n",
       "</tr>\n",
       "<tr>\n",
       "  <th>Time:</th>                 <td>13:01:16</td>     <th>  Log-Likelihood:    </th> <td>-1.2230e+05</td>\n",
       "</tr>\n",
       "<tr>\n",
       "  <th>No. Observations:</th>      <td> 81952</td>      <th>  AIC:               </th>  <td>2.446e+05</td> \n",
       "</tr>\n",
       "<tr>\n",
       "  <th>Df Residuals:</th>          <td> 81948</td>      <th>  BIC:               </th>  <td>2.447e+05</td> \n",
       "</tr>\n",
       "<tr>\n",
       "  <th>Df Model:</th>              <td>     3</td>      <th>                     </th>      <td> </td>     \n",
       "</tr>\n",
       "<tr>\n",
       "  <th>Covariance Type:</th>      <td>nonrobust</td>    <th>                     </th>      <td> </td>     \n",
       "</tr>\n",
       "</table>\n",
       "<table class=\"simpletable\">\n",
       "<tr>\n",
       "              <td></td>                <th>coef</th>     <th>std err</th>      <th>t</th>      <th>P>|t|</th>  <th>[0.025</th>    <th>0.975]</th>  \n",
       "</tr>\n",
       "<tr>\n",
       "  <th>const</th>                    <td>    4.3924</td> <td>    0.023</td> <td>  194.863</td> <td> 0.000</td> <td>    4.348</td> <td>    4.437</td>\n",
       "</tr>\n",
       "<tr>\n",
       "  <th>Precip Type</th>              <td>    0.3658</td> <td>    0.015</td> <td>   24.881</td> <td> 0.000</td> <td>    0.337</td> <td>    0.395</td>\n",
       "</tr>\n",
       "<tr>\n",
       "  <th>Apparent Temperature (C)</th> <td>    0.8499</td> <td>    0.001</td> <td> 1612.053</td> <td> 0.000</td> <td>    0.849</td> <td>    0.851</td>\n",
       "</tr>\n",
       "<tr>\n",
       "  <th>Humidity</th>                 <td>   -2.7383</td> <td>    0.025</td> <td> -111.520</td> <td> 0.000</td> <td>   -2.786</td> <td>   -2.690</td>\n",
       "</tr>\n",
       "</table>\n",
       "<table class=\"simpletable\">\n",
       "<tr>\n",
       "  <th>Omnibus:</th>       <td>1226.448</td> <th>  Durbin-Watson:     </th> <td>   2.023</td>\n",
       "</tr>\n",
       "<tr>\n",
       "  <th>Prob(Omnibus):</th>  <td> 0.000</td>  <th>  Jarque-Bera (JB):  </th> <td>2174.021</td>\n",
       "</tr>\n",
       "<tr>\n",
       "  <th>Skew:</th>           <td>-0.099</td>  <th>  Prob(JB):          </th> <td>    0.00</td>\n",
       "</tr>\n",
       "<tr>\n",
       "  <th>Kurtosis:</th>       <td> 3.773</td>  <th>  Cond. No.          </th> <td>    131.</td>\n",
       "</tr>\n",
       "</table><br/><br/>Notes:<br/>[1] Standard Errors assume that the covariance matrix of the errors is correctly specified."
      ],
      "text/plain": [
       "<class 'statsmodels.iolib.summary.Summary'>\n",
       "\"\"\"\n",
       "                            OLS Regression Results                            \n",
       "==============================================================================\n",
       "Dep. Variable:        Temperature (C)   R-squared:                       0.987\n",
       "Model:                            OLS   Adj. R-squared:                  0.987\n",
       "Method:                 Least Squares   F-statistic:                 2.113e+06\n",
       "Date:                Sun, 19 Sep 2021   Prob (F-statistic):               0.00\n",
       "Time:                        13:01:16   Log-Likelihood:            -1.2230e+05\n",
       "No. Observations:               81952   AIC:                         2.446e+05\n",
       "Df Residuals:                   81948   BIC:                         2.447e+05\n",
       "Df Model:                           3                                         \n",
       "Covariance Type:            nonrobust                                         \n",
       "============================================================================================\n",
       "                               coef    std err          t      P>|t|      [0.025      0.975]\n",
       "--------------------------------------------------------------------------------------------\n",
       "const                        4.3924      0.023    194.863      0.000       4.348       4.437\n",
       "Precip Type                  0.3658      0.015     24.881      0.000       0.337       0.395\n",
       "Apparent Temperature (C)     0.8499      0.001   1612.053      0.000       0.849       0.851\n",
       "Humidity                    -2.7383      0.025   -111.520      0.000      -2.786      -2.690\n",
       "==============================================================================\n",
       "Omnibus:                     1226.448   Durbin-Watson:                   2.023\n",
       "Prob(Omnibus):                  0.000   Jarque-Bera (JB):             2174.021\n",
       "Skew:                          -0.099   Prob(JB):                         0.00\n",
       "Kurtosis:                       3.773   Cond. No.                         131.\n",
       "==============================================================================\n",
       "\n",
       "Notes:\n",
       "[1] Standard Errors assume that the covariance matrix of the errors is correctly specified.\n",
       "\"\"\""
      ]
     },
     "execution_count": 22,
     "metadata": {},
     "output_type": "execute_result"
    }
   ],
   "source": [
    "# Fitting stats linear regression model\n",
    "# Adding intercept term to the data\n",
    "train_stats_x = sm.add_constant(train_x)\n",
    "test_stats_x = sm.add_constant(test_x)\n",
    "# training the model and printing the model statistics\n",
    "model_stats = sm.OLS(train_y,train_stats_x).fit()\n",
    "model_stats.summary()"
   ]
  },
  {
   "cell_type": "markdown",
   "metadata": {
    "id": "K214loBLTB-x"
   },
   "source": [
    "Coefficients by stats linear model :  [ 0.36577661  0.84993109 -2.73825109]\n",
    "\n",
    "Intercept by stats linear model :  4.392430208305879\n",
    "\n",
    "As we can see the coefficients and intercept are exactly same as given by the model sklearn. Also according to the summary of the model, all the variables are significant "
   ]
  },
  {
   "cell_type": "code",
   "execution_count": 23,
   "metadata": {
    "colab": {
     "base_uri": "https://localhost:8080/"
    },
    "id": "x7qt1GLrSYvU",
    "outputId": "06c6fe41-6c43-4b2a-ae55-d0de0249aa0c"
   },
   "outputs": [
    {
     "name": "stdout",
     "output_type": "stream",
     "text": [
      "MSE after training the data by stats linear model: 1.1582172027912538\n",
      "r2 score after training the data by stats linear model :  0.9872391133262627\n"
     ]
    }
   ],
   "source": [
    "# Performance on training data\n",
    "predict_train_model_stats = model_stats.predict(train_stats_x)\n",
    "train_MSE_model_stats = mean_squared_error(train_y, predict_train_model_stats)\n",
    "train_r2score_model_stats = r2_score(train_y, predict_train_model_stats)\n",
    "print(\"MSE after training the data by stats linear model:\",train_MSE_model_stats)\n",
    "print(\"r2 score after training the data by stats linear model : \",train_r2score_model_stats)"
   ]
  },
  {
   "cell_type": "code",
   "execution_count": 24,
   "metadata": {
    "colab": {
     "base_uri": "https://localhost:8080/"
    },
    "id": "dF2OgSceTjkw",
    "outputId": "afbb9cb8-9ba4-43c9-f8af-71e69750d040"
   },
   "outputs": [
    {
     "name": "stdout",
     "output_type": "stream",
     "text": [
      "MSE after test on stats  model : 1.1744594447520529\n",
      "r2 score after on stats  model :  0.987319863212834\n"
     ]
    }
   ],
   "source": [
    "# prediction on test data \n",
    "predict_test_model_stats = model_stats .predict(test_stats_x)\n",
    "test_MSE_model_stats  = mean_squared_error(test_y, predict_test_model_stats )\n",
    "test_r2score_model_stats  = r2_score(test_y, predict_test_model_stats )\n",
    "print(\"MSE after test on stats  model :\",test_MSE_model_stats )\n",
    "print(\"r2 score after on stats  model : \",test_r2score_model_stats )"
   ]
  },
  {
   "cell_type": "markdown",
   "metadata": {
    "id": "9Qc74hGdT3Eq"
   },
   "source": [
    "1. r2 score value in both training set and test set is close to 99% (same as sklearn model), means model has trained perfectly and there is no overfitting\n",
    "\n",
    "2. According to the analysis and model trained (stats model),factors which have an impact on the Temperature in Hungary are-\n",
    "\n",
    "   1. Apparent Temperature (C)- +ve coefficient\n",
    "   2. Humidity - -ve coefficient\n",
    "   3. Precip Type - +ve coefficent\n",
    "\n",
    "+ve coefficent means directly proportional and -ve correlation means inversely proportional  \n",
    "\n",
    "And, all the variables are significant (p >0.05)"
   ]
  },
  {
   "cell_type": "code",
   "execution_count": 25,
   "metadata": {
    "colab": {
     "base_uri": "https://localhost:8080/"
    },
    "id": "DhnMCyAO7ZSJ",
    "outputId": "284ea51a-654f-4785-fb6c-53b8f668ccb7"
   },
   "outputs": [
    {
     "data": {
      "text/plain": [
       "[12.269039303054335, 3.7951949032178, 6.54943252542538]"
      ]
     },
     "execution_count": 25,
     "metadata": {},
     "output_type": "execute_result"
    }
   ],
   "source": [
    "#Checking the VIF Values\n",
    "[variance_inflation_factor(train_x.values, j) for j in range(train_x.shape[1])]"
   ]
  },
  {
   "cell_type": "markdown",
   "metadata": {
    "id": "qj991Qi0Ugz1"
   },
   "source": [
    "According to this variable Precip type is showing high multicollinearity so we will eliminate it and again train and test our models from sklearn and stats"
   ]
  },
  {
   "cell_type": "code",
   "execution_count": 26,
   "metadata": {
    "id": "2aaTmEsEUuHm"
   },
   "outputs": [],
   "source": [
    "# Eliminating Precip Type variable\n",
    "weather_data_new = weather_data.drop(columns = [\"Precip Type\"])"
   ]
  },
  {
   "cell_type": "code",
   "execution_count": 27,
   "metadata": {
    "id": "CNbBE7BaVPO2"
   },
   "outputs": [],
   "source": [
    "# Extracting _newthe variable to be predicted\n",
    "train_y = weather_data['Temperature (C)']"
   ]
  },
  {
   "cell_type": "code",
   "execution_count": 28,
   "metadata": {
    "id": "tzJRZ_PZVTS-"
   },
   "outputs": [],
   "source": [
    "# Extracting input features \n",
    "train_x = weather_data_new.drop(columns = [\"Temperature (C)\"])"
   ]
  },
  {
   "cell_type": "code",
   "execution_count": 29,
   "metadata": {
    "colab": {
     "base_uri": "https://localhost:8080/"
    },
    "id": "P1ZxYHeQVVT_",
    "outputId": "78d93b3f-cd6e-4e8f-cba4-3aa7f3eb4b48"
   },
   "outputs": [
    {
     "data": {
      "text/plain": [
       "((81952, 2), (14463, 2), (81952,), (14463,))"
      ]
     },
     "execution_count": 29,
     "metadata": {},
     "output_type": "execute_result"
    }
   ],
   "source": [
    "# Splitting the data into training and test data\n",
    "train_x, test_x, train_y, test_y = train_test_split(train_x, train_y, test_size=0.15, random_state=42, )\n",
    "train_x.shape,test_x.shape,train_y.shape,test_y.shape"
   ]
  },
  {
   "cell_type": "markdown",
   "metadata": {
    "id": "vsuqHtQaVX9c"
   },
   "source": [
    "81952 data points in training set, 14463 data points in test set, 2 independent variables and a dependent variable"
   ]
  },
  {
   "cell_type": "code",
   "execution_count": 30,
   "metadata": {
    "colab": {
     "base_uri": "https://localhost:8080/"
    },
    "id": "R9rftB4LVarb",
    "outputId": "e3bfc89f-a537-4b0b-bd1c-d3ae744f1c32"
   },
   "outputs": [
    {
     "name": "stdout",
     "output_type": "stream",
     "text": [
      "MSE after training the data by sklearn linear model: 1.166966756948188\n",
      "r2 score after training the data by sklearn linear model :  0.9871427133861018\n",
      "Coefficients by sklearn linear model :  [ 0.85706479 -2.63994959]\n",
      "Intercept by sklearn linear model :  4.568009309822282\n"
     ]
    }
   ],
   "source": [
    "# Fitting Multiple Linear Regression to the Training set\n",
    "model_sklearn = LinearRegression()\n",
    "model_sklearn.fit(train_x, train_y)\n",
    "predict_train_model_sklearn = model_sklearn.predict(train_x)\n",
    "train_MSE_model_sklearn = mean_squared_error(train_y, predict_train_model_sklearn)\n",
    "train_r2score_model_sklearn = r2_score(train_y, predict_train_model_sklearn)\n",
    "print(\"MSE after training the data by sklearn linear model:\",train_MSE_model_sklearn)\n",
    "print(\"r2 score after training the data by sklearn linear model : \",train_r2score_model_sklearn)\n",
    "print(\"Coefficients by sklearn linear model : \",model_sklearn.coef_)\n",
    "print(\"Intercept by sklearn linear model : \",model_sklearn.intercept_)"
   ]
  },
  {
   "cell_type": "code",
   "execution_count": 31,
   "metadata": {
    "colab": {
     "base_uri": "https://localhost:8080/"
    },
    "id": "wwZYs7N8VdIb",
    "outputId": "1d6b049e-cde4-4068-ffa2-6d6692fff41b"
   },
   "outputs": [
    {
     "name": "stdout",
     "output_type": "stream",
     "text": [
      "MSE after test on sklearn model : 1.174556816776989\n",
      "r2 score after on sklearn model :  0.9873188119286871\n"
     ]
    }
   ],
   "source": [
    "# prediction on test data \n",
    "predict_test_model_sklearn = model_sklearn.predict(test_x)\n",
    "test_MSE_model_sklearn = mean_squared_error(test_y, predict_test_model_sklearn)\n",
    "test_r2score_model_sklearn = r2_score(test_y, predict_test_model_sklearn)\n",
    "print(\"MSE after test on sklearn model :\",test_MSE_model_sklearn )\n",
    "print(\"r2 score after on sklearn model : \",test_r2score_model_sklearn)"
   ]
  },
  {
   "cell_type": "markdown",
   "metadata": {
    "id": "FshTu_oWVfAI"
   },
   "source": [
    "1. r2 score value in both training set and test set is close to 99%, means model has trained perfectly and there is no overfitting\n",
    "\n",
    "2. According to the analysis and model trained (sklearn model),factors which have an impact on the Temperature in Hungary are-\n",
    "\n",
    "   1. Apparent Temperature (C)- +ve coefficient\n",
    "   2. Humidity - -ve coefficient\n",
    "\n",
    "+ve coefficent means directly proportional and -ve correlation means inversely proportional   "
   ]
  },
  {
   "cell_type": "code",
   "execution_count": 32,
   "metadata": {
    "colab": {
     "base_uri": "https://localhost:8080/",
     "height": 448
    },
    "id": "AGAcLUkCVhsv",
    "outputId": "cb7ab0b4-a213-4b82-b61c-a3e0af5ee81a"
   },
   "outputs": [
    {
     "data": {
      "text/html": [
       "<table class=\"simpletable\">\n",
       "<caption>OLS Regression Results</caption>\n",
       "<tr>\n",
       "  <th>Dep. Variable:</th>     <td>Temperature (C)</td> <th>  R-squared:         </th>  <td>   0.987</td>  \n",
       "</tr>\n",
       "<tr>\n",
       "  <th>Model:</th>                   <td>OLS</td>       <th>  Adj. R-squared:    </th>  <td>   0.987</td>  \n",
       "</tr>\n",
       "<tr>\n",
       "  <th>Method:</th>             <td>Least Squares</td>  <th>  F-statistic:       </th>  <td>3.146e+06</td> \n",
       "</tr>\n",
       "<tr>\n",
       "  <th>Date:</th>             <td>Sun, 19 Sep 2021</td> <th>  Prob (F-statistic):</th>   <td>  0.00</td>   \n",
       "</tr>\n",
       "<tr>\n",
       "  <th>Time:</th>                 <td>13:01:26</td>     <th>  Log-Likelihood:    </th> <td>-1.2261e+05</td>\n",
       "</tr>\n",
       "<tr>\n",
       "  <th>No. Observations:</th>      <td> 81952</td>      <th>  AIC:               </th>  <td>2.452e+05</td> \n",
       "</tr>\n",
       "<tr>\n",
       "  <th>Df Residuals:</th>          <td> 81949</td>      <th>  BIC:               </th>  <td>2.453e+05</td> \n",
       "</tr>\n",
       "<tr>\n",
       "  <th>Df Model:</th>              <td>     2</td>      <th>                     </th>      <td> </td>     \n",
       "</tr>\n",
       "<tr>\n",
       "  <th>Covariance Type:</th>      <td>nonrobust</td>    <th>                     </th>      <td> </td>     \n",
       "</tr>\n",
       "</table>\n",
       "<table class=\"simpletable\">\n",
       "<tr>\n",
       "              <td></td>                <th>coef</th>     <th>std err</th>      <th>t</th>      <th>P>|t|</th>  <th>[0.025</th>    <th>0.975]</th>  \n",
       "</tr>\n",
       "<tr>\n",
       "  <th>const</th>                    <td>    4.5680</td> <td>    0.021</td> <td>  212.579</td> <td> 0.000</td> <td>    4.526</td> <td>    4.610</td>\n",
       "</tr>\n",
       "<tr>\n",
       "  <th>Apparent Temperature (C)</th> <td>    0.8571</td> <td>    0.000</td> <td> 1929.773</td> <td> 0.000</td> <td>    0.856</td> <td>    0.858</td>\n",
       "</tr>\n",
       "<tr>\n",
       "  <th>Humidity</th>                 <td>   -2.6399</td> <td>    0.024</td> <td> -108.528</td> <td> 0.000</td> <td>   -2.688</td> <td>   -2.592</td>\n",
       "</tr>\n",
       "</table>\n",
       "<table class=\"simpletable\">\n",
       "<tr>\n",
       "  <th>Omnibus:</th>       <td>1987.153</td> <th>  Durbin-Watson:     </th> <td>   2.021</td>\n",
       "</tr>\n",
       "<tr>\n",
       "  <th>Prob(Omnibus):</th>  <td> 0.000</td>  <th>  Jarque-Bera (JB):  </th> <td>3695.352</td>\n",
       "</tr>\n",
       "<tr>\n",
       "  <th>Skew:</th>           <td>-0.186</td>  <th>  Prob(JB):          </th> <td>    0.00</td>\n",
       "</tr>\n",
       "<tr>\n",
       "  <th>Kurtosis:</th>       <td> 3.971</td>  <th>  Cond. No.          </th> <td>    130.</td>\n",
       "</tr>\n",
       "</table><br/><br/>Notes:<br/>[1] Standard Errors assume that the covariance matrix of the errors is correctly specified."
      ],
      "text/plain": [
       "<class 'statsmodels.iolib.summary.Summary'>\n",
       "\"\"\"\n",
       "                            OLS Regression Results                            \n",
       "==============================================================================\n",
       "Dep. Variable:        Temperature (C)   R-squared:                       0.987\n",
       "Model:                            OLS   Adj. R-squared:                  0.987\n",
       "Method:                 Least Squares   F-statistic:                 3.146e+06\n",
       "Date:                Sun, 19 Sep 2021   Prob (F-statistic):               0.00\n",
       "Time:                        13:01:26   Log-Likelihood:            -1.2261e+05\n",
       "No. Observations:               81952   AIC:                         2.452e+05\n",
       "Df Residuals:                   81949   BIC:                         2.453e+05\n",
       "Df Model:                           2                                         \n",
       "Covariance Type:            nonrobust                                         \n",
       "============================================================================================\n",
       "                               coef    std err          t      P>|t|      [0.025      0.975]\n",
       "--------------------------------------------------------------------------------------------\n",
       "const                        4.5680      0.021    212.579      0.000       4.526       4.610\n",
       "Apparent Temperature (C)     0.8571      0.000   1929.773      0.000       0.856       0.858\n",
       "Humidity                    -2.6399      0.024   -108.528      0.000      -2.688      -2.592\n",
       "==============================================================================\n",
       "Omnibus:                     1987.153   Durbin-Watson:                   2.021\n",
       "Prob(Omnibus):                  0.000   Jarque-Bera (JB):             3695.352\n",
       "Skew:                          -0.186   Prob(JB):                         0.00\n",
       "Kurtosis:                       3.971   Cond. No.                         130.\n",
       "==============================================================================\n",
       "\n",
       "Notes:\n",
       "[1] Standard Errors assume that the covariance matrix of the errors is correctly specified.\n",
       "\"\"\""
      ]
     },
     "execution_count": 32,
     "metadata": {},
     "output_type": "execute_result"
    }
   ],
   "source": [
    "# Fitting stats linear regression model\n",
    "# Adding intercept term to the data\n",
    "train_stats_x = sm.add_constant(train_x)\n",
    "test_stats_x = sm.add_constant(test_x)\n",
    "# training the model and printing the model statistics\n",
    "model_stats = sm.OLS(train_y,train_stats_x).fit()\n",
    "model_stats.summary()"
   ]
  },
  {
   "cell_type": "markdown",
   "metadata": {
    "id": "9VlcLy4zVp6x"
   },
   "source": [
    "Coefficients by stats linear model :  [ 0.84993109 -2.73825109]\n",
    "\n",
    "Intercept by stats linear model :  4.392430208305879\n",
    "\n",
    "As we can see the coefficients and intercept are similar as given by the model sklearn. Also according to the summary of the model, all the variables are significant "
   ]
  },
  {
   "cell_type": "code",
   "execution_count": 33,
   "metadata": {
    "colab": {
     "base_uri": "https://localhost:8080/"
    },
    "id": "cAzuKa9eVtBi",
    "outputId": "76ac1b08-5eaf-4090-a91f-7ee9cb80e7b3"
   },
   "outputs": [
    {
     "name": "stdout",
     "output_type": "stream",
     "text": [
      "MSE after training the data by stats linear model: 1.166966756948188\n",
      "r2 score after training the data by stats linear model :  0.9871427133861018\n"
     ]
    }
   ],
   "source": [
    "# Performance on training data\n",
    "predict_train_model_stats = model_stats.predict(train_stats_x)\n",
    "train_MSE_model_stats = mean_squared_error(train_y, predict_train_model_stats)\n",
    "train_r2score_model_stats = r2_score(train_y, predict_train_model_stats)\n",
    "print(\"MSE after training the data by stats linear model:\",train_MSE_model_stats)\n",
    "print(\"r2 score after training the data by stats linear model : \",train_r2score_model_stats)"
   ]
  },
  {
   "cell_type": "code",
   "execution_count": 34,
   "metadata": {
    "colab": {
     "base_uri": "https://localhost:8080/"
    },
    "id": "1t_48eN4VvN9",
    "outputId": "3c03b31a-7f41-48a4-9db5-f097b04edf0e"
   },
   "outputs": [
    {
     "name": "stdout",
     "output_type": "stream",
     "text": [
      "MSE after test on stats  model : 1.174556816776989\n",
      "r2 score after on stats  model :  0.9873188119286871\n"
     ]
    }
   ],
   "source": [
    "# prediction on test data \n",
    "predict_test_model_stats = model_stats .predict(test_stats_x)\n",
    "test_MSE_model_stats  = mean_squared_error(test_y, predict_test_model_stats )\n",
    "test_r2score_model_stats  = r2_score(test_y, predict_test_model_stats )\n",
    "print(\"MSE after test on stats  model :\",test_MSE_model_stats )\n",
    "print(\"r2 score after on stats  model : \",test_r2score_model_stats )"
   ]
  },
  {
   "cell_type": "markdown",
   "metadata": {
    "id": "bh5TVwnaV3-v"
   },
   "source": [
    "1. r2 score value in both training set and test set is close to 99% (same as sklearn model), means model has trained perfectly and there is no overfitting\n",
    "\n",
    "2. According to the analysis and model trained (stats model),factors which have an impact on the Temperature in Hungary are-\n",
    "\n",
    "   1. Apparent Temperature (C)- +ve coefficient\n",
    "   2. Humidity - -ve coefficient\n",
    "\n",
    "+ve coefficent means directly proportional and -ve correlation means inversely proportional  \n",
    "\n",
    "And, all the variables are significant (p >0.05)"
   ]
  },
  {
   "cell_type": "code",
   "execution_count": 35,
   "metadata": {
    "colab": {
     "base_uri": "https://localhost:8080/"
    },
    "id": "vzMF87gTV7Be",
    "outputId": "8214df65-fd3d-4d85-c221-429f814395f6"
   },
   "outputs": [
    {
     "data": {
      "text/plain": [
       "[1.50995799009072, 1.5099579900907198]"
      ]
     },
     "execution_count": 35,
     "metadata": {},
     "output_type": "execute_result"
    }
   ],
   "source": [
    "#Checking the VIF Values again\n",
    "[variance_inflation_factor(train_x.values, j) for j in range(train_x.shape[1])]"
   ]
  },
  {
   "cell_type": "markdown",
   "metadata": {
    "id": "1PVkMSvSV9oO"
   },
   "source": [
    "According to this, there is no multicollinearity now\n"
   ]
  }
 ],
 "metadata": {
  "colab": {
   "collapsed_sections": [],
   "name": "WeatherHistory_Case.ipynb",
   "provenance": []
  },
  "kernelspec": {
   "display_name": "Python 3",
   "language": "python",
   "name": "python3"
  },
  "language_info": {
   "codemirror_mode": {
    "name": "ipython",
    "version": 3
   },
   "file_extension": ".py",
   "mimetype": "text/x-python",
   "name": "python",
   "nbconvert_exporter": "python",
   "pygments_lexer": "ipython3",
   "version": "3.8.8"
  }
 },
 "nbformat": 4,
 "nbformat_minor": 1
}
